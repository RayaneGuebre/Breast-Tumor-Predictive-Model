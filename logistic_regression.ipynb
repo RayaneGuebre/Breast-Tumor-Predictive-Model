{
 "cells": [
  {
   "cell_type": "markdown",
   "id": "5fc25c68",
   "metadata": {},
   "source": [
    "## Breast Tumor Predictor\n",
    "\n",
    "A logistic regression model that classifies breast tumors as benign or malignant using 30 measurements from the Wisconsin dataset, achieving ~97% accuracy."
   ]
  },
  {
   "cell_type": "code",
   "execution_count": 5,
   "id": "ed69090e",
   "metadata": {},
   "outputs": [],
   "source": [
    "import numpy as np\n",
    "import pandas as pd\n",
    "from sklearn.linear_model import LogisticRegression\n",
    "from sklearn.model_selection import train_test_split"
   ]
  },
  {
   "cell_type": "markdown",
   "id": "dd01002e",
   "metadata": {},
   "source": [
    "### Load datas"
   ]
  },
  {
   "cell_type": "code",
   "execution_count": 6,
   "id": "443cc952",
   "metadata": {},
   "outputs": [],
   "source": [
    "df = pd.read_csv(\"Breast_cancer_dataset.csv\")"
   ]
  },
  {
   "cell_type": "markdown",
   "id": "962f8f3e",
   "metadata": {},
   "source": [
    "### Input array"
   ]
  },
  {
   "cell_type": "code",
   "execution_count": 9,
   "id": "e52a4dbf",
   "metadata": {},
   "outputs": [],
   "source": [
    "features_list = df.columns.drop(\"id\").drop(\"diagnosis\").drop(\"Unnamed: 32\")\n",
    "input_array = []\n",
    "for feature in features_list:\n",
    "    value = float(input(f\"{feature}: \"))\n",
    "    input_array.append(value)"
   ]
  },
  {
   "cell_type": "code",
   "execution_count": null,
   "id": "ed4cb345",
   "metadata": {},
   "outputs": [],
   "source": [
    "df.head()"
   ]
  },
  {
   "cell_type": "code",
   "execution_count": null,
   "id": "162d2759",
   "metadata": {},
   "outputs": [],
   "source": [
    "df = df.drop([\"id\"], axis=1)\n",
    "df = df.drop([\"Unnamed: 32\"], axis=1)"
   ]
  },
  {
   "cell_type": "code",
   "execution_count": null,
   "id": "a11fbc0d",
   "metadata": {},
   "outputs": [],
   "source": [
    "df[\"diagnosis\"] = df[\"diagnosis\"].apply(lambda x:1 if x == \"M\" else 0)"
   ]
  },
  {
   "cell_type": "code",
   "execution_count": null,
   "id": "8e805bed",
   "metadata": {},
   "outputs": [],
   "source": [
    "df.head()"
   ]
  },
  {
   "cell_type": "code",
   "execution_count": null,
   "id": "3c5bad32",
   "metadata": {},
   "outputs": [],
   "source": [
    "x_train, x_test, y_train, y_test = train_test_split(df.drop(\"diagnosis\", axis=1), df[\"diagnosis\"])"
   ]
  },
  {
   "cell_type": "code",
   "execution_count": null,
   "id": "7fa548d1",
   "metadata": {},
   "outputs": [],
   "source": [
    "LogReg = LogisticRegression(solver=\"lbfgs\", max_iter=10000)\n",
    "LogReg.fit(x_train, y_train)"
   ]
  },
  {
   "cell_type": "code",
   "execution_count": null,
   "id": "722f14fd",
   "metadata": {},
   "outputs": [],
   "source": [
    "LogReg.score(x_test, y_test)"
   ]
  },
  {
   "cell_type": "code",
   "execution_count": null,
   "id": "423e053b",
   "metadata": {},
   "outputs": [],
   "source": [
    "features = x_train.columns\n",
    "prediction_data = pd.DataFrame([input_array], columns=features)\n",
    "\n",
    "prediction = LogReg.predict(prediction_data)[0]\n",
    "if prediction == 1:\n",
    "    print(\"The tumor is malignant\")\n",
    "else:\n",
    "    print(\"The tumor is benign\")"
   ]
  }
 ],
 "metadata": {
  "kernelspec": {
   "display_name": "Python 3",
   "language": "python",
   "name": "python3"
  },
  "language_info": {
   "codemirror_mode": {
    "name": "ipython",
    "version": 3
   },
   "file_extension": ".py",
   "mimetype": "text/x-python",
   "name": "python",
   "nbconvert_exporter": "python",
   "pygments_lexer": "ipython3",
   "version": "3.12.1"
  }
 },
 "nbformat": 4,
 "nbformat_minor": 5
}
