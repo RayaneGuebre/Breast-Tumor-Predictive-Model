{
 "cells": [
  {
   "cell_type": "code",
   "execution_count": 2,
   "id": "ed69090e",
   "metadata": {},
   "outputs": [],
   "source": [
    "import numpy as np\n",
    "import matplotlib.pyplot as plt\n",
    "import copy\n",
    "import math\n",
    "import pandas as pd\n",
    "from sklearn.linear_model import LogisticRegression\n",
    "from sklearn.model_selection import train_test_split\n",
    "%matplotlib inline"
   ]
  },
  {
   "cell_type": "markdown",
   "id": "dd01002e",
   "metadata": {},
   "source": [
    "### Load datas"
   ]
  },
  {
   "cell_type": "code",
   "execution_count": 3,
   "id": "443cc952",
   "metadata": {},
   "outputs": [],
   "source": [
    "df = pd.read_csv(\"Breast_cancer_dataset.csv\")"
   ]
  },
  {
   "cell_type": "markdown",
   "id": "962f8f3e",
   "metadata": {},
   "source": [
    "### Input array"
   ]
  },
  {
   "cell_type": "code",
   "execution_count": null,
   "id": "e52a4dbf",
   "metadata": {},
   "outputs": [],
   "source": [
    "features_list = df.columns.drop(\"id\").drop(\"diagnosis\").drop(\"Unnamed: 32\")\n",
    "# Here some demo examples\n",
    "# Benign, 13.54,14.36,87.46,566.3,0.09779,0.08129,0.06664,0.04781,0.1885,0.05766,0.2699,0.7886,2.058,23.56,0.008462,0.0146,0.02387,0.01315,0.0198,0.0023,15.11,19.26,99.7,711.2,0.144,0.1773,0.239,0.1288,0.2977,0.07259\n",
    "# Malignant, 15.46,11.89,102.5,736.9,0.1257,0.1555,0.2032,0.1097,0.1966,0.07069,0.4209,0.6583,2.805,44.64,0.005393,0.02321,0.04303,0.0132,0.01792,0.004168,18.79,17.04,125,1102,0.1531,0.3583,0.583,0.1827,0.3216,0.101\n",
    "input_array = [] # Copy the array for the one you want to test and put it in the brackets  \n",
    "# for feature in features_list:\n",
    "#    value = float(input(f\"{feature}: \"))\n",
    "#    input_array.append(value)"
   ]
  },
  {
   "cell_type": "code",
   "execution_count": null,
   "id": "ed4cb345",
   "metadata": {},
   "outputs": [],
   "source": [
    "df.head()"
   ]
  },
  {
   "cell_type": "code",
   "execution_count": 11,
   "id": "162d2759",
   "metadata": {},
   "outputs": [],
   "source": [
    "df = df.drop([\"id\"], axis=1)\n",
    "df = df.drop([\"Unnamed: 32\"], axis=1)"
   ]
  },
  {
   "cell_type": "code",
   "execution_count": 12,
   "id": "a11fbc0d",
   "metadata": {},
   "outputs": [],
   "source": [
    "df[\"diagnosis\"] = df[\"diagnosis\"].apply(lambda x:1 if x == \"M\" else 0)"
   ]
  },
  {
   "cell_type": "code",
   "execution_count": null,
   "id": "8e805bed",
   "metadata": {},
   "outputs": [],
   "source": [
    "df.head()"
   ]
  },
  {
   "cell_type": "code",
   "execution_count": 14,
   "id": "3c5bad32",
   "metadata": {},
   "outputs": [],
   "source": [
    "x_train, x_test, y_train, y_test = train_test_split(df.drop(\"diagnosis\", axis=1), df[\"diagnosis\"])"
   ]
  },
  {
   "cell_type": "code",
   "execution_count": null,
   "id": "7fa548d1",
   "metadata": {},
   "outputs": [],
   "source": [
    "LogReg = LogisticRegression(solver=\"lbfgs\", max_iter=10000)\n",
    "LogReg.fit(x_train, y_train)"
   ]
  },
  {
   "cell_type": "code",
   "execution_count": null,
   "id": "722f14fd",
   "metadata": {},
   "outputs": [],
   "source": [
    "LogReg.score(x_test, y_test)"
   ]
  },
  {
   "cell_type": "code",
   "execution_count": null,
   "id": "423e053b",
   "metadata": {},
   "outputs": [],
   "source": [
    "features = x_train.columns\n",
    "prediction_data = pd.DataFrame([input_array], columns=features)\n",
    "\n",
    "prediction = LogReg.predict(prediction_data)[0]\n",
    "if prediction == 1:\n",
    "    print(\"The tumor is malignant\")\n",
    "else:\n",
    "    print(\"The tumor is benign\")"
   ]
  }
 ],
 "metadata": {
  "kernelspec": {
   "display_name": "venv",
   "language": "python",
   "name": "python3"
  },
  "language_info": {
   "codemirror_mode": {
    "name": "ipython",
    "version": 3
   },
   "file_extension": ".py",
   "mimetype": "text/x-python",
   "name": "python",
   "nbconvert_exporter": "python",
   "pygments_lexer": "ipython3",
   "version": "3.12.1"
  }
 },
 "nbformat": 4,
 "nbformat_minor": 5
}
