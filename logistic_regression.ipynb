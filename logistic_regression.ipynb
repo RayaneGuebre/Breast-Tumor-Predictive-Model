{
 "cells": [
  {
   "cell_type": "markdown",
   "id": "5fc25c68",
   "metadata": {},
   "source": [
    "## Breast Tumor Predictor\n",
    "\n",
    "A logistic regression model that classifies breast tumors as benign or malignant using 30 measurements from the Wisconsin dataset, achieving ~97% accuracy."
   ]
  },
  {
   "cell_type": "markdown",
   "id": "2388477c",
   "metadata": {},
   "source": [
    "## How to use it\n",
    "**Remember to download the required libraries by running \"pip3 install -r  requirements-txt**\n",
    "\n",
    "If you want to try this code the onlye thing you have to do is to run every cell with ctrl + shift and to add the demo values to the input array by copying the pasting the whole line on numbers\n"
   ]
  },
  {
   "cell_type": "code",
   "execution_count": null,
   "id": "ed69090e",
   "metadata": {},
   "outputs": [],
   "source": [
    "import numpy as np\n",
    "import pandas as pd\n",
    "from sklearn.linear_model import LogisticRegression\n",
    "from sklearn.model_selection import train_test_split"
   ]
  },
  {
   "cell_type": "markdown",
   "id": "dd01002e",
   "metadata": {},
   "source": [
    "### Load datas"
   ]
  },
  {
   "cell_type": "code",
   "execution_count": null,
   "id": "443cc952",
   "metadata": {},
   "outputs": [],
   "source": [
    "df = pd.read_csv(\"Breast_cancer_dataset.csv\")"
   ]
  },
  {
   "cell_type": "markdown",
   "id": "962f8f3e",
   "metadata": {},
   "source": [
    "### Input array"
   ]
  },
  {
   "cell_type": "markdown",
   "id": "3add3588",
   "metadata": {},
   "source": [
    "Copy one of the demo examples and paste it in the input_array's bracket "
   ]
  },
  {
   "cell_type": "code",
   "execution_count": null,
   "id": "e52a4dbf",
   "metadata": {},
   "outputs": [],
   "source": [
    "features_list = df.columns.drop(\"id\").drop(\"diagnosis\").drop(\"Unnamed: 32\")\n",
    "# Here some demo examples\n",
    "# Benign\n",
    "# 13.54,14.36,87.46,566.3,0.09779,0.08129,0.06664,0.04781,0.1885,0.05766,0.2699,0.7886,2.058,23.56,0.008462,0.0146,0.02387,0.01315,0.0198,0.0023,15.11,19.26,99.7,711.2,0.144,0.1773,0.239,0.1288,0.2977,0.07259\n",
    "# Malignant \n",
    "# 15.46,11.89,102.5,736.9,0.1257,0.1555,0.2032,0.1097,0.1966,0.07069,0.4209,0.6583,2.805,44.64,0.005393,0.02321,0.04303,0.0132,0.01792,0.004168,18.79,17.04,125,1102,0.1531,0.3583,0.583,0.1827,0.3216,0.101\n",
    "\n",
    "input_array = [15.46,11.89,102.5,736.9,0.1257,0.1555,0.2032,0.1097,0.1966,0.07069,0.4209,0.6583,2.805,44.64,0.005393,0.02321,0.04303,0.0132,0.01792,0.004168,18.79,17.04,125,1102,0.1531,0.3583,0.583,0.1827,0.3216,0.101\n",
    "] # Copy the array for the one you want to test and put it in the brackets  \n",
    "\n",
    "\n",
    "# This function it's just to input the array's value one by one, but for demo purposes we are going to skip it\n",
    "# for feature in features_list:\n",
    "#    value = float(input(f\"{feature}: \"))\n",
    "#    input_array.append(value)"
   ]
  },
  {
   "cell_type": "markdown",
   "id": "6e499cc9",
   "metadata": {},
   "source": [
    "### Print the head of the table"
   ]
  },
  {
   "cell_type": "code",
   "execution_count": null,
   "id": "ed4cb345",
   "metadata": {},
   "outputs": [],
   "source": [
    "df.head()"
   ]
  },
  {
   "cell_type": "markdown",
   "id": "20b9f83e",
   "metadata": {},
   "source": [
    "### Remove unwanted columns\n",
    "To train the model we are gonna remove the columns id and Unnamed: 32, since they are going to interfeare with the training"
   ]
  },
  {
   "cell_type": "code",
   "execution_count": null,
   "id": "162d2759",
   "metadata": {},
   "outputs": [],
   "source": [
    "df = df.drop([\"id\"], axis=1)\n",
    "df = df.drop([\"Unnamed: 32\"], axis=1)"
   ]
  },
  {
   "cell_type": "markdown",
   "id": "b4f9f8e5",
   "metadata": {},
   "source": [
    "### Replace M and B by 1 and 0\n",
    "Also for training purposes, we are going to replace M and B, 1 stands for malignant, and 0 for benign"
   ]
  },
  {
   "cell_type": "code",
   "execution_count": null,
   "id": "a11fbc0d",
   "metadata": {},
   "outputs": [],
   "source": [
    "df[\"diagnosis\"] = df[\"diagnosis\"].apply(lambda x:1 if x == \"M\" else 0)"
   ]
  },
  {
   "cell_type": "markdown",
   "id": "22d05708",
   "metadata": {},
   "source": [
    "### Check the table head\n",
    "Let's check the table head to make sure that th changes have been applied successfully\n"
   ]
  },
  {
   "cell_type": "code",
   "execution_count": null,
   "id": "8e805bed",
   "metadata": {},
   "outputs": [],
   "source": [
    "df.head()"
   ]
  },
  {
   "cell_type": "markdown",
   "id": "59e5ac62",
   "metadata": {},
   "source": [
    "### Split the data into training and testing data\n",
    "Here we are going to split the data into training and testing data, as the name suggest the training data are to train the model and the test data are to check the accuracy of it"
   ]
  },
  {
   "cell_type": "code",
   "execution_count": null,
   "id": "3c5bad32",
   "metadata": {},
   "outputs": [],
   "source": [
    "x_train, x_test, y_train, y_test = train_test_split(df.drop(\"diagnosis\", axis=1), df[\"diagnosis\"])"
   ]
  },
  {
   "cell_type": "markdown",
   "id": "0e30e1bb",
   "metadata": {},
   "source": [
    "### Let's train the model"
   ]
  },
  {
   "cell_type": "code",
   "execution_count": null,
   "id": "7fa548d1",
   "metadata": {},
   "outputs": [],
   "source": [
    "LogReg = LogisticRegression(solver=\"lbfgs\", max_iter=10000)\n",
    "LogReg.fit(x_train, y_train)"
   ]
  },
  {
   "cell_type": "markdown",
   "id": "53c9c73b",
   "metadata": {},
   "source": [
    "### Accuracy\n",
    "Let's check the accuracy of our model to see how precise the predictions are"
   ]
  },
  {
   "cell_type": "code",
   "execution_count": null,
   "id": "722f14fd",
   "metadata": {},
   "outputs": [],
   "source": [
    "LogReg.score(x_test, y_test)"
   ]
  },
  {
   "cell_type": "markdown",
   "id": "3c37ca70",
   "metadata": {},
   "source": [
    "### Let's see our prediction based on the array you inputted before"
   ]
  },
  {
   "cell_type": "code",
   "execution_count": null,
   "id": "423e053b",
   "metadata": {},
   "outputs": [],
   "source": [
    "features = x_train.columns\n",
    "prediction_data = pd.DataFrame([input_array], columns=features)\n",
    "\n",
    "prediction = LogReg.predict(prediction_data)[0]\n",
    "if prediction == 1:\n",
    "    print(\"The tumor is malignant\")\n",
    "else:\n",
    "    print(\"The tumor is benign\")"
   ]
  }
 ],
 "metadata": {
  "kernelspec": {
   "display_name": "venv",
   "language": "python",
   "name": "python3"
  },
  "language_info": {
   "codemirror_mode": {
    "name": "ipython",
    "version": 3
   },
   "file_extension": ".py",
   "mimetype": "text/x-python",
   "name": "python",
   "nbconvert_exporter": "python",
   "pygments_lexer": "ipython3",
   "version": "3.12.1"
  }
 },
 "nbformat": 4,
 "nbformat_minor": 5
}
